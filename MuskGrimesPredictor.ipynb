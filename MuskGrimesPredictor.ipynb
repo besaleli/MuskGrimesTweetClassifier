{
 "cells": [
  {
   "cell_type": "code",
   "execution_count": 1,
   "metadata": {},
   "outputs": [],
   "source": [
    "import pandas as pd\n",
    "import numpy as np\n",
    "import matplotlib.pyplot as plt\n",
    "from nltk import TweetTokenizer\n",
    "import nltk"
   ]
  },
  {
   "cell_type": "code",
   "execution_count": 2,
   "metadata": {},
   "outputs": [],
   "source": [
    "file = 'TweetsElonMusk.csv'\n",
    "# read csv into pandas df\n",
    "df = pd.read_csv(file)\n",
    "\n",
    "# shuffle df\n",
    "df = df.sample(frac=1).reset_index(drop=True)\n",
    "\n",
    "# make boolean category of whether Musk was dating Grimes\n",
    "# From the time that it was announced that they were quietly dating to their post about separating\n",
    "df['datingGrimes'] = df.apply(lambda i : 'T' if i.date >= '2018-05-07' and i.date < '2021-09-24' else 'F', axis=1)"
   ]
  },
  {
   "cell_type": "code",
   "execution_count": 3,
   "metadata": {},
   "outputs": [],
   "source": [
    "def tweet_features(tweet, word_features):\n",
    "        \n",
    "    tweet_words = set(tweet)\n",
    "    features = {}\n",
    "    for word in word_features:\n",
    "            features['contains({})'.format(word)] = (word in tweet_words)\n",
    "        \n",
    "    return features"
   ]
  },
  {
   "cell_type": "code",
   "execution_count": 4,
   "metadata": {},
   "outputs": [],
   "source": [
    "tt = TweetTokenizer()\n",
    "    \n",
    "datingGrimes = df['datingGrimes'].to_list()\n",
    "    \n",
    "tweets_raw = df['tweet'].to_list()\n",
    "tweets_tokenized = [tt.tokenize(tweet) for tweet in tweets_raw]\n",
    "\n",
    "words = sum(tweets_tokenized, [])\n",
    "words_freqdist = nltk.FreqDist(w.lower() for w in words)\n",
    "word_features = list(words_freqdist)[:2000]\n",
    "\n",
    "featuresets = [(tweet_features(tweets_tokenized[i], word_features), datingGrimes[i]) for i in range(len(tweets_tokenized))]"
   ]
  },
  {
   "cell_type": "code",
   "execution_count": 5,
   "metadata": {},
   "outputs": [],
   "source": [
    "part = int(len(tweets_raw) * 0.1)\n",
    "train_set, test_set = featuresets[part:], featuresets[:part]\n",
    "train_tweets, test_tweets = tweets_raw[part:], tweets_raw[:part]\n",
    "classifier = nltk.NaiveBayesClassifier.train(train_set)"
   ]
  },
  {
   "cell_type": "code",
   "execution_count": 11,
   "metadata": {},
   "outputs": [
    {
     "name": "stdout",
     "output_type": "stream",
     "text": [
      "0.8192675159235668\n"
     ]
    }
   ],
   "source": [
    "print(nltk.classify.accuracy(classifier, test_set))"
   ]
  },
  {
   "cell_type": "code",
   "execution_count": 6,
   "metadata": {},
   "outputs": [
    {
     "name": "stdout",
     "output_type": "stream",
     "text": [
      "Most Informative Features\n",
      "             contains(\") = True                F : T      =    147.3 : 1.0\n",
      "           contains(...) = True                F : T      =     58.8 : 1.0\n",
      "             contains(️) = True                T : F      =     27.5 : 1.0\n",
      "         contains(isn't) = True                F : T      =     26.4 : 1.0\n",
      "     contains(@annerajb) = True                T : F      =     23.6 : 1.0\n",
      "        contains(@verge) = True                F : T      =     21.3 : 1.0\n",
      "     contains(spaceship) = True                F : T      =     17.9 : 1.0\n",
      "  contains(appreciation) = True                F : T      =     16.2 : 1.0\n",
      "          contains(thru) = True                F : T      =     16.2 : 1.0\n",
      "  contains(announcement) = True                F : T      =     14.8 : 1.0\n",
      "      contains(landings) = True                F : T      =     12.8 : 1.0\n",
      "     contains(droneship) = True                F : T      =     12.2 : 1.0\n",
      "contains(@13ericralph31) = True                T : F      =     11.4 : 1.0\n",
      "      contains(deployed) = True                F : T      =     10.7 : 1.0\n",
      "          contains(tmrw) = True                F : T      =      9.7 : 1.0\n",
      "            contains(:)) = True                F : T      =      9.5 : 1.0\n",
      "         contains(coast) = True                F : T      =      9.4 : 1.0\n",
      "    contains(scientists) = True                F : T      =      9.4 : 1.0\n",
      "      contains(upcoming) = True                F : T      =      9.4 : 1.0\n",
      "       contains(reentry) = True                F : T      =      8.8 : 1.0\n"
     ]
    }
   ],
   "source": [
    "classifier.show_most_informative_features(20)"
   ]
  },
  {
   "cell_type": "code",
   "execution_count": 7,
   "metadata": {},
   "outputs": [],
   "source": [
    "def predict(tweet, featureset, classifier):\n",
    "    print('Tweet: ')\n",
    "    print(tweet)\n",
    "    guess = classifier.classify(featureset[0])\n",
    "    if guess == 'T':\n",
    "        print('Do we think Musk was dating Grimes when he wrote this? YES.')\n",
    "    else:\n",
    "        print('Do we think musk was dating Grimes when he wrote this? NO.')\n",
    "\n",
    "    def yn(guess):\n",
    "        if guess == featureset[1]:\n",
    "            return 'YES'\n",
    "        else:\n",
    "            return 'NO'\n",
    "    \n",
    "    print('Were we correct? ' + yn(guess))\n",
    "    print()"
   ]
  },
  {
   "cell_type": "code",
   "execution_count": 8,
   "metadata": {},
   "outputs": [
    {
     "name": "stdout",
     "output_type": "stream",
     "text": [
      "Tweet: \n",
      "Boring machine segments have been lowered into the starter tunnel. Going through final assembly.…  https://t.co/2jg03I7j4n\n",
      "Do we think Musk was dating Grimes when he wrote this? YES.\n",
      "Were we correct? NO\n",
      "\n",
      "Tweet: \n",
      "@Trevorcochran2 🤔\n",
      "Do we think Musk was dating Grimes when he wrote this? YES.\n",
      "Were we correct? YES\n",
      "\n",
      "Tweet: \n",
      "@Erdayastronaut @DJSnM @KevinKling12 @spaceXcentric Distance from fireball is 0.5*a*t^2, so if t is small, you haven’t moved far even if a is high. At ~6g thrust, you’ll only travel ~0.03m in 100 ms. Pressure wave (aka explosion) with liquid rockets is low, as ox &amp; fuel are poorly mixed. If you can fly out of it, you’re prob ok.\n",
      "Do we think Musk was dating Grimes when he wrote this? YES.\n",
      "Were we correct? YES\n",
      "\n",
      "Tweet: \n",
      "@Teslarati Sheer magnitude of the entire production system is hard to appreciate. Almost every element of production is &gt;75% automated. Only wire harnesses &amp; general assembly, which are &lt;10% of production costs, are primarily manual.\n",
      "Do we think Musk was dating Grimes when he wrote this? YES.\n",
      "Were we correct? YES\n",
      "\n",
      "Tweet: \n",
      "@flcnhvy @cgpgrey @thirdrowtesla Ok sure\n",
      "Do we think Musk was dating Grimes when he wrote this? YES.\n",
      "Were we correct? YES\n",
      "\n",
      "Tweet: \n",
      "@MikeKasprzik Aiming for next week\n",
      "Do we think Musk was dating Grimes when he wrote this? YES.\n",
      "Were we correct? YES\n",
      "\n",
      "Tweet: \n",
      "@EvaFoxU @Jf323Jf @naturenick The good old days!\n",
      "Do we think Musk was dating Grimes when he wrote this? YES.\n",
      "Were we correct? YES\n",
      "\n",
      "Tweet: \n",
      "@JamesRossi100 probably makes sense to build off the pickup truck chassis\n",
      "Do we think Musk was dating Grimes when he wrote this? YES.\n",
      "Were we correct? NO\n",
      "\n",
      "Tweet: \n",
      "@PatrickLac007 It finally almost doesn’t suck\n",
      "Do we think Musk was dating Grimes when he wrote this? YES.\n",
      "Were we correct? YES\n",
      "\n",
      "Tweet: \n",
      "@lexfridman @neuralink Yes\n",
      "Do we think Musk was dating Grimes when he wrote this? YES.\n",
      "Were we correct? YES\n",
      "\n",
      "Tweet: \n",
      "@TeslaForLife @Tesla @RamTrucks @Ford Laminar air flow due to a completely smooth bottom is underappreciated\n",
      "Do we think Musk was dating Grimes when he wrote this? YES.\n",
      "Were we correct? YES\n",
      "\n",
      "Tweet: \n",
      "Classifying all deaths as corona even if corona didn’t cause the death is simply a lie\n",
      "Do we think Musk was dating Grimes when he wrote this? YES.\n",
      "Were we correct? YES\n",
      "\n",
      "Tweet: \n",
      "Particularly trying to understand the quieter bang sound a few seconds before the fireball goes off. May come from rocket or something else.\n",
      "Do we think musk was dating Grimes when he wrote this? NO.\n",
      "Were we correct? YES\n",
      "\n",
      "Tweet: \n",
      "@newscientist 🤣🤣👍👍\n",
      "Do we think Musk was dating Grimes when he wrote this? YES.\n",
      "Were we correct? YES\n",
      "\n",
      "Tweet: \n",
      "@mrDeanMiller When we upgrade the core Linux OS to 4.4, which is probably December\n",
      "Do we think Musk was dating Grimes when he wrote this? YES.\n",
      "Were we correct? NO\n",
      "\n",
      "Tweet: \n",
      "@PPathole @Erdayastronaut @dauqhx @universal_sci Mars is easier than the moon for propellant production. Could get going with only one ship, where the ship itself is the propellant plant. Needs to make ~2 tons/day.\n",
      "Do we think Musk was dating Grimes when he wrote this? YES.\n",
      "Were we correct? YES\n",
      "\n",
      "Tweet: \n",
      "@annerajb No\n",
      "Do we think Musk was dating Grimes when he wrote this? YES.\n",
      "Were we correct? YES\n",
      "\n",
      "Tweet: \n",
      "@WBMason Ensure future of Earth &amp; extend life sustainably to other planets\n",
      "Do we think Musk was dating Grimes when he wrote this? YES.\n",
      "Were we correct? YES\n",
      "\n",
      "Tweet: \n",
      "@EnochKo @Anna_online A second one that is 30cm shorter is almost complete\n",
      "Do we think Musk was dating Grimes when he wrote this? YES.\n",
      "Were we correct? YES\n",
      "\n",
      "Tweet: \n",
      "@JimPuzzanghera Congratulations to LA Times and Patrick Soon-Shiong!\n",
      "Do we think musk was dating Grimes when he wrote this? NO.\n",
      "Were we correct? NO\n",
      "\n"
     ]
    },
    {
     "data": {
      "text/plain": [
       "[None,\n",
       " None,\n",
       " None,\n",
       " None,\n",
       " None,\n",
       " None,\n",
       " None,\n",
       " None,\n",
       " None,\n",
       " None,\n",
       " None,\n",
       " None,\n",
       " None,\n",
       " None,\n",
       " None,\n",
       " None,\n",
       " None,\n",
       " None,\n",
       " None,\n",
       " None]"
      ]
     },
     "execution_count": 8,
     "metadata": {},
     "output_type": "execute_result"
    }
   ],
   "source": [
    "[predict(test_tweets[i], test_set[i], classifier) for i in range(0, 20)]"
   ]
  },
  {
   "cell_type": "code",
   "execution_count": null,
   "metadata": {},
   "outputs": [],
   "source": []
  }
 ],
 "metadata": {
  "kernelspec": {
   "display_name": "Python 3",
   "language": "python",
   "name": "python3"
  },
  "language_info": {
   "codemirror_mode": {
    "name": "ipython",
    "version": 3
   },
   "file_extension": ".py",
   "mimetype": "text/x-python",
   "name": "python",
   "nbconvert_exporter": "python",
   "pygments_lexer": "ipython3",
   "version": "3.8.5"
  }
 },
 "nbformat": 4,
 "nbformat_minor": 4
}
